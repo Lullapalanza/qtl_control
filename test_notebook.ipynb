{
 "cells": [
  {
   "cell_type": "code",
   "execution_count": 13,
   "metadata": {},
   "outputs": [
    {
     "name": "stdout",
     "output_type": "stream",
     "text": [
      "Opened DB with last id: 0\n"
     ]
    }
   ],
   "source": [
    "from qtl_control.station import parse_config_to_station\n",
    "from qtl_control.qtl_experiments.database import FileSystemDB\n",
    "from qtl_control.qtl_experiments.experiment import QTLExperiment\n",
    "\n",
    "station = parse_config_to_station(\"tests/test_station.yaml\")\n",
    "db = FileSystemDB(\"test_db\", \"tests/\")\n",
    "QTLExperiment.default_db = db\n",
    "QTLExperiment.default_station = station"
   ]
  },
  {
   "cell_type": "code",
   "execution_count": 14,
   "metadata": {},
   "outputs": [],
   "source": [
    "_, test_conf0 = station.new_configuration(\"test0\")\n",
    "_, test_conf1 = station.new_configuration(\"test1\")"
   ]
  },
  {
   "cell_type": "code",
   "execution_count": 15,
   "metadata": {},
   "outputs": [
    {
     "data": {
      "text/plain": [
       "{'root': {'combined_controller_0': {'hw_controller_0': {'amplitude': 0},\n",
       "   'abstract_controller_0': {}},\n",
       "  'vna_controller': {'span': Ellipsis,\n",
       "   'center_frequency': Ellipsis,\n",
       "   'power': Ellipsis}}}"
      ]
     },
     "execution_count": 15,
     "metadata": {},
     "output_type": "execute_result"
    }
   ],
   "source": [
    "test_conf0"
   ]
  },
  {
   "cell_type": "code",
   "execution_count": 16,
   "metadata": {},
   "outputs": [
    {
     "name": "stdout",
     "output_type": "stream",
     "text": [
      "<qtl_control.controller_module.Setting object at 0x7d96caf1f740>\n",
      "setting MockHW amplitude to 2\n"
     ]
    }
   ],
   "source": [
    "station.change_settings({\"combined_controller_0.hw_controller_0.amplitude\": 2})"
   ]
  },
  {
   "cell_type": "code",
   "execution_count": 17,
   "metadata": {},
   "outputs": [],
   "source": [
    "_, test_conf1 = station.new_configuration(\"test1\")"
   ]
  },
  {
   "cell_type": "code",
   "execution_count": 18,
   "metadata": {},
   "outputs": [
    {
     "data": {
      "text/plain": [
       "['get_frequency_trace']"
      ]
     },
     "execution_count": 18,
     "metadata": {},
     "output_type": "execute_result"
    }
   ],
   "source": [
    "station.get_module_methods(\"RandSModule\")"
   ]
  },
  {
   "cell_type": "code",
   "execution_count": 19,
   "metadata": {},
   "outputs": [
    {
     "data": {
      "text/plain": [
       "([6000000000.0, 6100000000.0, 6200000000.0], [(3+0j), (2+0.1j), (5-0.7j)])"
      ]
     },
     "execution_count": 19,
     "metadata": {},
     "output_type": "execute_result"
    }
   ],
   "source": [
    "station.run_module_method(\"RandSModule\", \"get_frequency_trace\", \"vna_controller\")"
   ]
  },
  {
   "cell_type": "code",
   "execution_count": 20,
   "metadata": {},
   "outputs": [
    {
     "name": "stdout",
     "output_type": "stream",
     "text": [
      "<qtl_control.controller_module.Setting object at 0x7d96caf1f740>\n",
      "setting MockHW amplitude to 0.1\n",
      "<qtl_control.controller_module.Setting object at 0x7d96caf1f740>\n",
      "setting MockHW amplitude to 0.2\n",
      "<qtl_control.controller_module.Setting object at 0x7d96caf1f740>\n",
      "setting MockHW amplitude to 2\n"
     ]
    },
    {
     "data": {
      "text/plain": [
       "[([6000000000.0, 6100000000.0, 6200000000.0], [(3+0j), (2+0.1j), (5-0.7j)]),\n",
       " ([6000000000.0, 6100000000.0, 6200000000.0], [(3+0j), (2+0.1j), (5-0.7j)])]"
      ]
     },
     "execution_count": 20,
     "metadata": {},
     "output_type": "execute_result"
    }
   ],
   "source": [
    "station.external_sweeps(\n",
    "    [\n",
    "        {\"combined_controller_0.hw_controller_0.amplitude\": 0.1},\n",
    "        {\"combined_controller_0.hw_controller_0.amplitude\": 0.2}\n",
    "    ],\n",
    "    \"RandSModule\",\n",
    "    \"get_frequency_trace\",\n",
    "    \"vna_controller\"\n",
    ")"
   ]
  },
  {
   "cell_type": "code",
   "execution_count": 21,
   "metadata": {},
   "outputs": [
    {
     "data": {
      "text/plain": [
       "{'root': {'combined_controller_0': {'hw_controller_0': {'amplitude': 2},\n",
       "   'abstract_controller_0': {}},\n",
       "  'vna_controller': {'span': Ellipsis,\n",
       "   'center_frequency': Ellipsis,\n",
       "   'power': Ellipsis}}}"
      ]
     },
     "execution_count": 21,
     "metadata": {},
     "output_type": "execute_result"
    }
   ],
   "source": [
    "station.get_configuration()"
   ]
  },
  {
   "cell_type": "code",
   "execution_count": 22,
   "metadata": {},
   "outputs": [],
   "source": [
    "from qtl_control.qtl_experiments.experiment import VNATrace\n",
    "\n",
    "vna_trace = VNATrace()"
   ]
  },
  {
   "cell_type": "code",
   "execution_count": null,
   "metadata": {},
   "outputs": [],
   "source": []
  },
  {
   "cell_type": "code",
   "execution_count": null,
   "metadata": {},
   "outputs": [],
   "source": []
  },
  {
   "cell_type": "code",
   "execution_count": null,
   "metadata": {},
   "outputs": [],
   "source": [
    "vna_sweep = vna_trace.run(\"vna_controller\")\n",
    "vna_sweep.plot()"
   ]
  },
  {
   "cell_type": "code",
   "execution_count": 24,
   "metadata": {},
   "outputs": [
    {
     "data": {
      "text/plain": [
       "(1+0.1j)"
      ]
     },
     "execution_count": 24,
     "metadata": {},
     "output_type": "execute_result"
    }
   ],
   "source": [
    "a = 1+0.1j\n",
    "a"
   ]
  },
  {
   "cell_type": "code",
   "execution_count": null,
   "metadata": {},
   "outputs": [],
   "source": []
  }
 ],
 "metadata": {
  "kernelspec": {
   "display_name": "qtl",
   "language": "python",
   "name": "python3"
  },
  "language_info": {
   "codemirror_mode": {
    "name": "ipython",
    "version": 3
   },
   "file_extension": ".py",
   "mimetype": "text/x-python",
   "name": "python",
   "nbconvert_exporter": "python",
   "pygments_lexer": "ipython3",
   "version": "3.12.8"
  }
 },
 "nbformat": 4,
 "nbformat_minor": 2
}
