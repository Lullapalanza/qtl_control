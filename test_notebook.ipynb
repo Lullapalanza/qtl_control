{
 "cells": [
  {
   "cell_type": "code",
   "execution_count": 1,
   "metadata": {},
   "outputs": [],
   "source": [
    "from qtl_control.station import parse_config_to_station\n",
    "\n",
    "station = parse_config_to_station(\"tests/test_station.yaml\")"
   ]
  },
  {
   "cell_type": "code",
   "execution_count": 2,
   "metadata": {},
   "outputs": [
    {
     "name": "stdout",
     "output_type": "stream",
     "text": [
      "root, {}, {'combined_controller_0': <qtl_control.controller_module.MockCombinedController object at 0x0000014981BB9F70>}\n",
      "combined_controller_0, {}, {'hw_controller_0': <qtl_control.controller_module.MockHWController object at 0x0000014981AA5D30>, 'abstract_controller_0': <qtl_control.controller_module.MockController object at 0x0000014981BBB650>}\n",
      "hw_controller_0, {'amplitude': <qtl_control.controller_module.Setting object at 0x0000014981C00590>}, {}\n",
      "abstract_controller_0, {}, {}\n"
     ]
    }
   ],
   "source": [
    "_, test_conf = station.new_configuration(\"test\")"
   ]
  },
  {
   "cell_type": "code",
   "execution_count": 3,
   "metadata": {},
   "outputs": [
    {
     "data": {
      "text/plain": [
       "{'root': {'combined_controller_0': {'hw_controller_0': {'amplitude': 0},\n",
       "   'abstract_controller_0': {}}}}"
      ]
     },
     "execution_count": 3,
     "metadata": {},
     "output_type": "execute_result"
    }
   ],
   "source": [
    "test_conf"
   ]
  },
  {
   "cell_type": "code",
   "execution_count": 4,
   "metadata": {},
   "outputs": [
    {
     "ename": "ValueError",
     "evalue": "not enough values to unpack (expected 2, got 1)",
     "output_type": "error",
     "traceback": [
      "\u001b[31m---------------------------------------------------------------------------\u001b[39m",
      "\u001b[31mValueError\u001b[39m                                Traceback (most recent call last)",
      "\u001b[36mCell\u001b[39m\u001b[36m \u001b[39m\u001b[32mIn[4]\u001b[39m\u001b[32m, line 1\u001b[39m\n\u001b[32m----> \u001b[39m\u001b[32m1\u001b[39m \u001b[43mstation\u001b[49m\u001b[43m.\u001b[49m\u001b[43mchange_settings\u001b[49m\u001b[43m(\u001b[49m\u001b[43m{\u001b[49m\u001b[33;43m\"\u001b[39;49m\u001b[33;43mcombined_controller_0.hw_controller_0.amplitude\u001b[39;49m\u001b[33;43m\"\u001b[39;49m\u001b[43m:\u001b[49m\u001b[43m \u001b[49m\u001b[32;43m1\u001b[39;49m\u001b[43m}\u001b[49m\u001b[43m)\u001b[49m\n",
      "\u001b[36mFile \u001b[39m\u001b[32mc:\\Users\\jyrgen\\Documents\\PhD\\qtl_control\\qtl_control\\station.py:112\u001b[39m, in \u001b[36mStation.change_settings\u001b[39m\u001b[34m(self, new_settings_and_values)\u001b[39m\n\u001b[32m    110\u001b[39m \u001b[38;5;28;01mdef\u001b[39;00m\u001b[38;5;250m \u001b[39m\u001b[34mchange_settings\u001b[39m(\u001b[38;5;28mself\u001b[39m, new_settings_and_values: \u001b[38;5;28mdict\u001b[39m):\n\u001b[32m    111\u001b[39m     \u001b[38;5;28;01mfor\u001b[39;00m setting_label, value \u001b[38;5;129;01min\u001b[39;00m new_settings_and_values.items():\n\u001b[32m--> \u001b[39m\u001b[32m112\u001b[39m         \u001b[38;5;28;43mself\u001b[39;49m\u001b[43m.\u001b[49m\u001b[43m_controller_root\u001b[49m\u001b[43m.\u001b[49m\u001b[43mchange_setting\u001b[49m\u001b[43m(\u001b[49m\u001b[43msetting_label\u001b[49m\u001b[43m,\u001b[49m\u001b[43m \u001b[49m\u001b[43mvalue\u001b[49m\u001b[43m)\u001b[49m\n",
      "\u001b[36mFile \u001b[39m\u001b[32mc:\\Users\\jyrgen\\Documents\\PhD\\qtl_control\\qtl_control\\controller_module.py:45\u001b[39m, in \u001b[36mStationNode.change_setting\u001b[39m\u001b[34m(self, label, value)\u001b[39m\n\u001b[32m     43\u001b[39m     \u001b[38;5;28mself\u001b[39m._settings[sublabel].value(value)\n\u001b[32m     44\u001b[39m \u001b[38;5;28;01melif\u001b[39;00m sublabel \u001b[38;5;129;01min\u001b[39;00m \u001b[38;5;28mself\u001b[39m._subnodes.keys():\n\u001b[32m---> \u001b[39m\u001b[32m45\u001b[39m     \u001b[38;5;28;43mself\u001b[39;49m\u001b[43m.\u001b[49m\u001b[43m_subnodes\u001b[49m\u001b[43m[\u001b[49m\u001b[43msublabel\u001b[49m\u001b[43m]\u001b[49m\u001b[43m.\u001b[49m\u001b[43mchange_setting\u001b[49m\u001b[43m(\u001b[49m\u001b[43mremaining\u001b[49m\u001b[43m,\u001b[49m\u001b[43m \u001b[49m\u001b[43mvalue\u001b[49m\u001b[43m)\u001b[49m\n",
      "\u001b[36mFile \u001b[39m\u001b[32mc:\\Users\\jyrgen\\Documents\\PhD\\qtl_control\\qtl_control\\controller_module.py:45\u001b[39m, in \u001b[36mStationNode.change_setting\u001b[39m\u001b[34m(self, label, value)\u001b[39m\n\u001b[32m     43\u001b[39m     \u001b[38;5;28mself\u001b[39m._settings[sublabel].value(value)\n\u001b[32m     44\u001b[39m \u001b[38;5;28;01melif\u001b[39;00m sublabel \u001b[38;5;129;01min\u001b[39;00m \u001b[38;5;28mself\u001b[39m._subnodes.keys():\n\u001b[32m---> \u001b[39m\u001b[32m45\u001b[39m     \u001b[38;5;28;43mself\u001b[39;49m\u001b[43m.\u001b[49m\u001b[43m_subnodes\u001b[49m\u001b[43m[\u001b[49m\u001b[43msublabel\u001b[49m\u001b[43m]\u001b[49m\u001b[43m.\u001b[49m\u001b[43mchange_setting\u001b[49m\u001b[43m(\u001b[49m\u001b[43mremaining\u001b[49m\u001b[43m,\u001b[49m\u001b[43m \u001b[49m\u001b[43mvalue\u001b[49m\u001b[43m)\u001b[49m\n",
      "\u001b[36mFile \u001b[39m\u001b[32mc:\\Users\\jyrgen\\Documents\\PhD\\qtl_control\\qtl_control\\controller_module.py:41\u001b[39m, in \u001b[36mStationNode.change_setting\u001b[39m\u001b[34m(self, label, value)\u001b[39m\n\u001b[32m     40\u001b[39m \u001b[38;5;28;01mdef\u001b[39;00m\u001b[38;5;250m \u001b[39m\u001b[34mchange_setting\u001b[39m(\u001b[38;5;28mself\u001b[39m, label, value):\n\u001b[32m---> \u001b[39m\u001b[32m41\u001b[39m     sublabel, remaining = label.split(\u001b[33m\"\u001b[39m\u001b[33m.\u001b[39m\u001b[33m\"\u001b[39m, \u001b[32m1\u001b[39m)\n\u001b[32m     42\u001b[39m     \u001b[38;5;28;01mif\u001b[39;00m sublabel \u001b[38;5;129;01min\u001b[39;00m \u001b[38;5;28mself\u001b[39m._settings.keys():\n\u001b[32m     43\u001b[39m         \u001b[38;5;28mself\u001b[39m._settings[sublabel].value(value)\n",
      "\u001b[31mValueError\u001b[39m: not enough values to unpack (expected 2, got 1)"
     ]
    }
   ],
   "source": [
    "station.change_settings({\"combined_controller_0.hw_controller_0.amplitude\": 1})"
   ]
  },
  {
   "cell_type": "code",
   "execution_count": 5,
   "metadata": {},
   "outputs": [
    {
     "data": {
      "text/plain": [
       "{'root': {'combined_controller_0': {'hw_controller_0': {'amplitude': 0},\n",
       "   'abstract_controller_0': {}}}}"
      ]
     },
     "execution_count": 5,
     "metadata": {},
     "output_type": "execute_result"
    }
   ],
   "source": [
    "test_conf"
   ]
  }
 ],
 "metadata": {
  "kernelspec": {
   "display_name": "qtl",
   "language": "python",
   "name": "python3"
  },
  "language_info": {
   "codemirror_mode": {
    "name": "ipython",
    "version": 3
   },
   "file_extension": ".py",
   "mimetype": "text/x-python",
   "name": "python",
   "nbconvert_exporter": "python",
   "pygments_lexer": "ipython3",
   "version": "3.12.9"
  }
 },
 "nbformat": 4,
 "nbformat_minor": 2
}
